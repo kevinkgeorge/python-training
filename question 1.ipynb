{
 "cells": [
  {
   "cell_type": "code",
   "execution_count": null,
   "id": "ec17b699-fc5b-43ff-a9cb-4582806df95c",
   "metadata": {},
   "outputs": [],
   "source": [
    "import csv\n",
    "import math\n",
    "# Open input and output CSV files\n",
    "with open(\"sales_24.csv\", \"r\") as infile, open(\"sales_updated.csv\", \"w\", newline='') as outfile:\n",
    "    reader = csv.DictReader(infile)\n",
    "    writer = csv.DictWriter(outfile, fieldnames=reader.fieldnames)\n",
    "    writer.writeheader()\n",
    "    for row in reader:\n",
    "        amount = row[\"Amount\"]\n",
    "        if amount.replace('.', '').isdigit():\n",
    "            row[\"Amount\"] = math.floor(float(amount))\n",
    "        else:\n",
    "            row[\"Amount\"] = amount\n",
    "        writer.writerow(row)\n",
    "print(\"Updated file saved as 'sales_updated.csv'\")\n",
    "\n",
    "\n",
    "\n",
    "\n",
    "\n",
    "\n"
   ]
  }
 ],
 "metadata": {
  "kernelspec": {
   "display_name": "Python 3 (ipykernel)",
   "language": "python",
   "name": "python3"
  },
  "language_info": {
   "codemirror_mode": {
    "name": "ipython",
    "version": 3
   },
   "file_extension": ".py",
   "mimetype": "text/x-python",
   "name": "python",
   "nbconvert_exporter": "python",
   "pygments_lexer": "ipython3",
   "version": "3.10.12"
  }
 },
 "nbformat": 4,
 "nbformat_minor": 5
}
